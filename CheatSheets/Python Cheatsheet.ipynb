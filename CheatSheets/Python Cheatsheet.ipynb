{
 "cells": [
  {
   "cell_type": "markdown",
   "id": "7da4af6f",
   "metadata": {},
   "source": [
    "# Python Cheatsheet 101\n",
    "\n",
    "This jupyter notebook covers the most basic principles in Python and presents them in a very simple, yet effective manner! I tried my best to cover the basic pillars of Pyton by including the following topics:\n",
    "\n",
    "1. Print Statments, it's parameters & Comments\n",
    "    * Print function\n",
    "    * `Sep` & `End` parmeters\n",
    "    * Comments\n",
    "2. Data types and Variables\n",
    "    * Integer, Floats, Strings and Booleans\n",
    "    * Single Variable & multiple assignment\n",
    "3. Arithmetic and Operators\n",
    "    * Arithmetic & Math functions\n",
    "    * Operators (>, <, <=, >=)\n",
    "3. Conditionals\n",
    "    * If Statements\n",
    "    * Switch Case Statements\n",
    "4. Loops\n",
    "    * While Loop\n",
    "    * For Loop\n",
    "    * Nested Loop\n",
    "5. Strings\n",
    "    * Multple ways to assign them\n",
    "    * String slicing\n",
    "    * String methods\n",
    "6. Lists\n",
    "    * Creating lists\n",
    "    * List slicing and iterating\n",
    "    * List methods\n",
    "    * Nested lists\n",
    "7. Tuples\n",
    "    * Creating tuples\n",
    "    * Slicing tuples (Similar to Strings & Lists)\n",
    "    * Tuple methods\n",
    "8. Dictionaries\n",
    "    * Creating dictionaries\n",
    "    * Dictionary slicing and iterating\n",
    "    * Dictionary methods\n",
    "9. Sets\n",
    "    * Creating sets\n",
    "    * Set methods\n",
    "10. Functions\n",
    "    * Creating a function, parameters and return\n",
    "    * `*args` & `**kwargs`\n",
    "    * Lambda Function\n",
    "13. Comprehensions\n",
    "    * List Comprehensions\n",
    "    * Dictionary Comprehensions\n",
    "\n",
    "\n",
    "Well, this is it. I won't be covering Object Oriented Concepts as it is a lengthy topic. Will do in another dedicated cheatsheeet."
   ]
  },
  {
   "cell_type": "markdown",
   "id": "d5f0ddf4",
   "metadata": {},
   "source": [
    "## 1. Print Statments, it's Parameters & Comments"
   ]
  },
  {
   "cell_type": "code",
   "execution_count": 144,
   "id": "6af6db71",
   "metadata": {},
   "outputs": [
    {
     "name": "stdout",
     "output_type": "stream",
     "text": [
      "This is a Print Statement!\n"
     ]
    }
   ],
   "source": [
    "# Print Statement\n",
    "print(\"This is a Print Statement!\")"
   ]
  },
  {
   "cell_type": "code",
   "execution_count": 145,
   "id": "bb1d6f0f",
   "metadata": {},
   "outputs": [
    {
     "name": "stdout",
     "output_type": "stream",
     "text": [
      "python cool\n",
      "python@cool.com\n",
      "1/1/2023\n"
     ]
    }
   ],
   "source": [
    "# The `sep` parameter\n",
    "print('python','cool') # Default `sep` value is set to a space (i.e \" \")\n",
    "print('python','cool.com', sep='@')\n",
    "print('1','1', '2023', sep='/')\n",
    "\n",
    "# Given 2 strings and a given sep (separator) it joins them with the given sep."
   ]
  },
  {
   "cell_type": "code",
   "execution_count": 146,
   "id": "4bf33092",
   "metadata": {},
   "outputs": [
    {
     "name": "stdout",
     "output_type": "stream",
     "text": [
      "Python@CheatSheet\n"
     ]
    }
   ],
   "source": [
    "# The `end` parameter\n",
    "print(\"Python\", end='@') \n",
    "print(\"CheatSheet\")\n",
    "\n",
    "# Ends the output with '@', however, default value is "
   ]
  },
  {
   "cell_type": "code",
   "execution_count": 147,
   "id": "a45633ef",
   "metadata": {},
   "outputs": [],
   "source": [
    "# PS. this stuff after the \"#\" is called a comment."
   ]
  },
  {
   "cell_type": "markdown",
   "id": "9cf183ba",
   "metadata": {},
   "source": [
    "## 2. Data types and Variables"
   ]
  },
  {
   "cell_type": "markdown",
   "id": "5cac7f6e",
   "metadata": {},
   "source": [
    "#### The classical datatypes"
   ]
  },
  {
   "cell_type": "code",
   "execution_count": 148,
   "id": "6fa93ca1",
   "metadata": {},
   "outputs": [
    {
     "name": "stdout",
     "output_type": "stream",
     "text": [
      "<class 'str'>\n",
      "<class 'int'>\n",
      "<class 'float'>\n",
      "<class 'bool'>\n"
     ]
    }
   ],
   "source": [
    "x = str(\"Hello World\")\n",
    "print(type(x))\n",
    "\n",
    "x = int(20) \n",
    "print(type(x))\n",
    "\n",
    "x = float(20.5) \n",
    "print(type(x))\n",
    "\n",
    "x = bool(5) \n",
    "print(type(x))"
   ]
  },
  {
   "cell_type": "markdown",
   "id": "2d802046",
   "metadata": {},
   "source": [
    "#### Data structural datatypes"
   ]
  },
  {
   "cell_type": "code",
   "execution_count": 149,
   "id": "3804409c",
   "metadata": {},
   "outputs": [
    {
     "name": "stdout",
     "output_type": "stream",
     "text": [
      "<class 'list'>\n",
      "<class 'tuple'>\n",
      "<class 'range'>\n",
      "<class 'dict'>\n",
      "<class 'set'>\n",
      "<class 'frozenset'>\n"
     ]
    }
   ],
   "source": [
    "x = list((\"apple\", \"banana\", \"cherry\")) \n",
    "print(type(x))\n",
    "\n",
    "x = tuple((\"apple\", \"banana\", \"cherry\")) \n",
    "print(type(x))\n",
    "\n",
    "x = range(6)\n",
    "print(type(x))\n",
    "\n",
    "x = dict(name=\"John\", age=36)\n",
    "print(type(x))\n",
    "\n",
    "x = set((\"apple\", \"banana\", \"cherry\"))\n",
    "print(type(x))\n",
    "\n",
    "x = frozenset((\"apple\", \"banana\", \"cherry\"))  \n",
    "print(type(x))"
   ]
  },
  {
   "cell_type": "markdown",
   "id": "6276f539",
   "metadata": {},
   "source": [
    "#### Some other datatypes (Binary)"
   ]
  },
  {
   "cell_type": "code",
   "execution_count": 150,
   "id": "18973db9",
   "metadata": {},
   "outputs": [
    {
     "name": "stdout",
     "output_type": "stream",
     "text": [
      "<class 'complex'>\n",
      "<class 'bytes'>\n",
      "<class 'bytearray'>\n",
      "<class 'memoryview'>\n"
     ]
    }
   ],
   "source": [
    "x = complex(1j) \n",
    "print(type(x))\n",
    "\n",
    "x = bytes(5)\n",
    "print(type(x))\n",
    "\n",
    "x = bytearray(5)\n",
    "print(type(x))\n",
    "\n",
    "x = memoryview(bytes(5))\n",
    "print(type(x))"
   ]
  },
  {
   "cell_type": "markdown",
   "id": "d21caeaa",
   "metadata": {},
   "source": [
    "#### Variables"
   ]
  },
  {
   "cell_type": "code",
   "execution_count": 151,
   "id": "7caf8a81",
   "metadata": {},
   "outputs": [
    {
     "name": "stdout",
     "output_type": "stream",
     "text": [
      "Sally\n"
     ]
    }
   ],
   "source": [
    "name = \"Sally\"\n",
    "print(name)"
   ]
  },
  {
   "cell_type": "code",
   "execution_count": 152,
   "id": "5064ecd1",
   "metadata": {},
   "outputs": [
    {
     "name": "stdout",
     "output_type": "stream",
     "text": [
      "23\n"
     ]
    }
   ],
   "source": [
    "age = 23\n",
    "print(age)"
   ]
  },
  {
   "cell_type": "markdown",
   "id": "e8319c38",
   "metadata": {},
   "source": [
    "Variables are used to store data, kinda like a container that holds up water or spices in your home!"
   ]
  },
  {
   "cell_type": "markdown",
   "id": "3490a2c6",
   "metadata": {},
   "source": [
    "## 3. Arithmetic and Operators\n",
    "1. Arithmetic\n",
    "2. Math module\n",
    "3. Operators"
   ]
  },
  {
   "cell_type": "markdown",
   "id": "3b223080",
   "metadata": {},
   "source": [
    "#### 1. Arithmetic"
   ]
  },
  {
   "cell_type": "code",
   "execution_count": 153,
   "id": "c4ea9e8d",
   "metadata": {},
   "outputs": [
    {
     "name": "stdout",
     "output_type": "stream",
     "text": [
      "8\n"
     ]
    }
   ],
   "source": [
    "# Addition\n",
    "print(5 + 3)"
   ]
  },
  {
   "cell_type": "code",
   "execution_count": 154,
   "id": "cb5b0015",
   "metadata": {},
   "outputs": [
    {
     "name": "stdout",
     "output_type": "stream",
     "text": [
      "6\n"
     ]
    }
   ],
   "source": [
    "# Subtraction\n",
    "print(11-5)"
   ]
  },
  {
   "cell_type": "code",
   "execution_count": 155,
   "id": "034c501f",
   "metadata": {},
   "outputs": [
    {
     "name": "stdout",
     "output_type": "stream",
     "text": [
      "20\n"
     ]
    }
   ],
   "source": [
    "# Multiplication\n",
    "print(2 * 10)"
   ]
  },
  {
   "cell_type": "code",
   "execution_count": 156,
   "id": "3675e111",
   "metadata": {},
   "outputs": [
    {
     "name": "stdout",
     "output_type": "stream",
     "text": [
      "4.0\n"
     ]
    }
   ],
   "source": [
    "# Division\n",
    "print(20 / 5)"
   ]
  },
  {
   "cell_type": "code",
   "execution_count": 157,
   "id": "dea642e5",
   "metadata": {},
   "outputs": [
    {
     "name": "stdout",
     "output_type": "stream",
     "text": [
      "3\n"
     ]
    }
   ],
   "source": [
    "# Floor Division (Divides 2 numbers, but answer is always in integer (whole number) form)\n",
    "print(20 // 6)"
   ]
  },
  {
   "cell_type": "code",
   "execution_count": 158,
   "id": "b77f19b8",
   "metadata": {},
   "outputs": [
    {
     "name": "stdout",
     "output_type": "stream",
     "text": [
      "0\n",
      "2\n"
     ]
    }
   ],
   "source": [
    "# Modulus (What is the REMAINDER?)\n",
    "print(5 % 5) # 0\n",
    "\n",
    "print(5 % 3) # 1"
   ]
  },
  {
   "cell_type": "code",
   "execution_count": 159,
   "id": "0f1f711d",
   "metadata": {},
   "outputs": [
    {
     "name": "stdout",
     "output_type": "stream",
     "text": [
      "8\n"
     ]
    }
   ],
   "source": [
    "# Exponentiation (Sqaure)\n",
    "print(2 ** 3) # 2*2*2 (2^3)"
   ]
  },
  {
   "cell_type": "markdown",
   "id": "37085ac9",
   "metadata": {},
   "source": [
    "#### Math module"
   ]
  },
  {
   "cell_type": "code",
   "execution_count": 160,
   "id": "a4356a79",
   "metadata": {},
   "outputs": [],
   "source": [
    "# Import math Library\n",
    "import math"
   ]
  },
  {
   "cell_type": "code",
   "execution_count": 161,
   "id": "5ddb091c",
   "metadata": {},
   "outputs": [
    {
     "data": {
      "text/plain": [
       "2.718281828459045"
      ]
     },
     "execution_count": 161,
     "metadata": {},
     "output_type": "execute_result"
    }
   ],
   "source": [
    "math.e"
   ]
  },
  {
   "cell_type": "code",
   "execution_count": 162,
   "id": "a88f5fb2",
   "metadata": {},
   "outputs": [
    {
     "data": {
      "text/plain": [
       "3.141592653589793"
      ]
     },
     "execution_count": 162,
     "metadata": {},
     "output_type": "execute_result"
    }
   ],
   "source": [
    "math.pi"
   ]
  },
  {
   "cell_type": "code",
   "execution_count": 163,
   "id": "82198e66",
   "metadata": {},
   "outputs": [
    {
     "data": {
      "text/plain": [
       "6.283185307179586"
      ]
     },
     "execution_count": 163,
     "metadata": {},
     "output_type": "execute_result"
    }
   ],
   "source": [
    "math.tau "
   ]
  },
  {
   "cell_type": "code",
   "execution_count": 164,
   "id": "912da43b",
   "metadata": {},
   "outputs": [
    {
     "data": {
      "text/plain": [
       "inf"
      ]
     },
     "execution_count": 164,
     "metadata": {},
     "output_type": "execute_result"
    }
   ],
   "source": [
    "math.inf"
   ]
  },
  {
   "cell_type": "markdown",
   "id": "4994b10d",
   "metadata": {},
   "source": [
    "You can read more about the `math` module here: https://docs.python.org/3/library/math.html"
   ]
  },
  {
   "cell_type": "markdown",
   "id": "3a85640f",
   "metadata": {},
   "source": [
    "#### Operators"
   ]
  },
  {
   "cell_type": "code",
   "execution_count": 165,
   "id": "5d33481e",
   "metadata": {},
   "outputs": [
    {
     "name": "stdout",
     "output_type": "stream",
     "text": [
      "True\n"
     ]
    }
   ],
   "source": [
    "print(18 > 2) # Greater than"
   ]
  },
  {
   "cell_type": "code",
   "execution_count": 166,
   "id": "40aa2b58",
   "metadata": {},
   "outputs": [
    {
     "name": "stdout",
     "output_type": "stream",
     "text": [
      "False\n"
     ]
    }
   ],
   "source": [
    "print(18 < 2) # Less than"
   ]
  },
  {
   "cell_type": "code",
   "execution_count": 167,
   "id": "38b02485",
   "metadata": {},
   "outputs": [
    {
     "name": "stdout",
     "output_type": "stream",
     "text": [
      "True\n"
     ]
    }
   ],
   "source": [
    "print(18 == 18) # Equal to"
   ]
  },
  {
   "cell_type": "code",
   "execution_count": 168,
   "id": "b87f802a",
   "metadata": {},
   "outputs": [
    {
     "name": "stdout",
     "output_type": "stream",
     "text": [
      "True\n"
     ]
    }
   ],
   "source": [
    "print(18 >= 18) # Greater than or Equal to"
   ]
  },
  {
   "cell_type": "code",
   "execution_count": 169,
   "id": "e80573b0",
   "metadata": {},
   "outputs": [
    {
     "name": "stdout",
     "output_type": "stream",
     "text": [
      "False\n"
     ]
    }
   ],
   "source": [
    "print(19 <= 18) # Less than or Equal to"
   ]
  },
  {
   "cell_type": "markdown",
   "id": "595d016c",
   "metadata": {},
   "source": [
    "## 4. Conditionals\n",
    "1. If Statements\n",
    "2. Shorthand\n",
    "3. Case/Switch Statements"
   ]
  },
  {
   "cell_type": "markdown",
   "id": "2f6c6495",
   "metadata": {},
   "source": [
    "### If Statements"
   ]
  },
  {
   "cell_type": "code",
   "execution_count": 170,
   "id": "2a499f6f",
   "metadata": {},
   "outputs": [],
   "source": [
    "age = 80"
   ]
  },
  {
   "cell_type": "code",
   "execution_count": 171,
   "id": "725ab92e",
   "metadata": {},
   "outputs": [
    {
     "name": "stdout",
     "output_type": "stream",
     "text": [
      "You're old!\n"
     ]
    }
   ],
   "source": [
    "if age >= 18 and age <= 60:\n",
    "    print(\"You're an adult\")\n",
    "elif age >= 60:\n",
    "    print(\"You're old!\")\n",
    "elif age >= 13:\n",
    "    print(\"Congrats! You're a teen!\")\n",
    "else:\n",
    "    print(\"Still a child my freind.\")"
   ]
  },
  {
   "cell_type": "markdown",
   "id": "42e89c9b",
   "metadata": {},
   "source": [
    "The above example uses an if-statement & also makes use of the `and` operator. Other operators you can use are `or` and `not`."
   ]
  },
  {
   "cell_type": "code",
   "execution_count": 172,
   "id": "3e648ed3",
   "metadata": {},
   "outputs": [
    {
     "name": "stdout",
     "output_type": "stream",
     "text": [
      "NET 0\n"
     ]
    }
   ],
   "source": [
    "# Shorthand\n",
    "a = 60\n",
    "b = 60\n",
    "\n",
    "print(\"A is LARGEST\") if a > b else print(\"NET 0\") if a == b else print(\"B is LARGEST\")"
   ]
  },
  {
   "cell_type": "markdown",
   "id": "255e0f1a",
   "metadata": {},
   "source": [
    "### Switch Case\n",
    "Now let's have a look at a new addition to Python - **`Switch Case Statemets`**, along awaited request from the Python community and in Python **V.3.10** we get this!"
   ]
  },
  {
   "cell_type": "code",
   "execution_count": 173,
   "id": "b910c46f",
   "metadata": {},
   "outputs": [
    {
     "name": "stdout",
     "output_type": "stream",
     "text": [
      "You can become a Data Scientist\n"
     ]
    }
   ],
   "source": [
    "lang = \"Python\"\n",
    "\n",
    "match lang:\n",
    "    case \"JavaScript\":\n",
    "        print(\"You can become a web developer.\")\n",
    "\n",
    "    case \"Python\":\n",
    "        print(\"You can become a Data Scientist\")\n",
    "\n",
    "    case \"PHP\":\n",
    "        print(\"You can become a backend developer\")\n",
    "    \n",
    "    case \"Solidity\":\n",
    "        print(\"You can become a Blockchain developer\")\n",
    "\n",
    "    case \"Java\":\n",
    "        print(\"You can become a mobile app developer\")\n",
    "    case _:\n",
    "        print(\"The language doesn't matter, what matters is solving problems.\")"
   ]
  },
  {
   "cell_type": "markdown",
   "id": "7f8e518b",
   "metadata": {},
   "source": [
    "A pretty understandable syntax here. We start the case statement with the **match** keyword, followed by the name of the variable. Then you use the **case** keyword as shown.\n",
    "\n",
    "When ending the case statement, you can use the **underscore (_)** and close off as shown, however this is optional just like the **else** keyword in the **if-else** statements."
   ]
  },
  {
   "cell_type": "markdown",
   "id": "ccf014fe",
   "metadata": {},
   "source": [
    "## 5. Loops\n",
    "1. While Loop\n",
    "2. For Loop\n",
    "3. Nested Loop"
   ]
  },
  {
   "cell_type": "markdown",
   "id": "3df9ef2b",
   "metadata": {},
   "source": [
    "### While Loop\n",
    "First and foremost, we have the while loop - used when we have to iterate until a conditon is fullfilled. Beow is an example."
   ]
  },
  {
   "cell_type": "code",
   "execution_count": 174,
   "id": "6c7daabb",
   "metadata": {},
   "outputs": [
    {
     "name": "stdout",
     "output_type": "stream",
     "text": [
      "0\n",
      "1\n",
      "2\n",
      "3\n",
      "4\n"
     ]
    }
   ],
   "source": [
    "count = 0\n",
    "while count < 5:\n",
    "    print(count)\n",
    "    count += 1"
   ]
  },
  {
   "cell_type": "markdown",
   "id": "48565b46",
   "metadata": {},
   "source": [
    "This loop will print the numbers `0` through `4`. The loop will continue as long as the value of count is less than 5. The line `count += 1` is shorthand for `count = count + 1` and is used to increment the value of count by 1 after each iteration of the loop."
   ]
  },
  {
   "cell_type": "code",
   "execution_count": 175,
   "id": "fe99ad6c",
   "metadata": {},
   "outputs": [
    {
     "name": "stdout",
     "output_type": "stream",
     "text": [
      "120\n"
     ]
    }
   ],
   "source": [
    "# A more complex example - finding factorial\n",
    "n = 5\n",
    "result = 1\n",
    "while n > 1:\n",
    "    result *= n\n",
    "    n -= 1\n",
    "    \n",
    "print(result)"
   ]
  },
  {
   "cell_type": "markdown",
   "id": "b74cfbc4",
   "metadata": {},
   "source": [
    "This example defines a factorial program that takes an integer n as input and returns the factorial of n. The factorial of a number is the product of all the integers from 1 to that number. For example, the factorial of 5 is 5 * 4 * 3 * 2 * 1 = 120.\n",
    "\n",
    "The `while` loop in this example continues as long as `n` is greater than 1. The value of `result` is updated on each iteration of the loop by multiplying it by the current value of `n`, and then `n` is decremented by 1. When the loop exits, `result` will contain the factorial of the input `n`."
   ]
  },
  {
   "cell_type": "markdown",
   "id": "fe8dd58f",
   "metadata": {},
   "source": [
    "### For Loop\n",
    "`for` loops are used when you have a block of code that you want to execute a specific number of times. They are useful for iterating over a sequence of elements, such as a list or a range of numbers.\n",
    "\n",
    "For example, you might use a for loop to iterate over a list of names and print each name to the console, or to iterate over a range of numbers and calculate the sum of the numbers.\n",
    "\n",
    "`for` loops are also useful for performing an action on each element of a sequence, such as modifying the element or adding it to a new list.\n",
    "\n",
    "Overall, `for` loops are an efficient and concise way to perform a repetitive task in your code."
   ]
  },
  {
   "cell_type": "code",
   "execution_count": 176,
   "id": "86b33303",
   "metadata": {},
   "outputs": [
    {
     "name": "stdout",
     "output_type": "stream",
     "text": [
      "0\n",
      "1\n",
      "2\n",
      "3\n",
      "4\n"
     ]
    }
   ],
   "source": [
    "for i in range(5):\n",
    "    print(i)"
   ]
  },
  {
   "cell_type": "markdown",
   "id": "5b188314",
   "metadata": {},
   "source": [
    "This loop will print the numbers 0 through 4. The `range(5)` function returns a sequence of numbers from 0 to 4, and the for loop iterates over this sequence, assigning each number to the loop variable `i` in turn. On each iteration of the loop, the value of `i` is printed."
   ]
  },
  {
   "cell_type": "code",
   "execution_count": 177,
   "id": "5f73005c",
   "metadata": {},
   "outputs": [
    {
     "name": "stdout",
     "output_type": "stream",
     "text": [
      "Python IS AMAZING!\n",
      "Python IS AMAZING!\n",
      "Python IS AMAZING!\n",
      "Python IS AMAZING!\n",
      "Python IS AMAZING!\n"
     ]
    }
   ],
   "source": [
    "for i in range(5):\n",
    "    print(\"Python IS AMAZING!\")"
   ]
  },
  {
   "cell_type": "markdown",
   "id": "16489985",
   "metadata": {},
   "source": [
    "Instead of printing the `i` variable, I just printed a string 5 times, by writing it once only!\n",
    "\n",
    "#### Range?\n",
    "The `range()` function in Python returns a sequence of numbers, starting from 0 by default, and increments by 1 (also by default), and ends at a specified number - 1 / (n - 1).\n",
    "\n",
    "For example, `range(5)` returns a sequence of numbers from 0 to 4, `range(2, 6)` returns a sequence of numbers from 2 to 5, and `range(3, 10, 2)` returns a sequence of numbers from 3 to 9, incrementing by 2 on each iteration.\n",
    "\n",
    "`range()` is commonly used in for loops to specify the number of iterations, as shown above."
   ]
  },
  {
   "cell_type": "code",
   "execution_count": 178,
   "id": "fd86f791",
   "metadata": {},
   "outputs": [
    {
     "name": "stdout",
     "output_type": "stream",
     "text": [
      "4\n"
     ]
    }
   ],
   "source": [
    "# A slightly complex example - counting vowels\n",
    "\n",
    "vowels = \"aeiouAEIOU\" # We'll use this string for comparison\n",
    "string = \"Python is Cool\" # We'll be iterating over this string\n",
    "\n",
    "vowel_count = 0 # The `i` variable in this case\n",
    "\n",
    "for char in string:\n",
    "    if char in vowels:\n",
    "        vowel_count += 1\n",
    "\n",
    "print(vowel_count)"
   ]
  },
  {
   "cell_type": "markdown",
   "id": "972762c5",
   "metadata": {},
   "source": [
    "This example defines that a `string` is taken as input and returns the number of vowels in the string. The `for` loop iterates over **each character in the string**, and the `if statement` inside the loop checks if the character is a vowel. If it is, the `vowel count` is incremented by `1`. When the loop exits, the vowel count is printed.\n",
    "\n",
    "This for loop demonstrates how to iterate over the characters in a string and perform an action on each character. It also shows how to use an if statement inside a for loop to selectively perform an action based on the value of the loop variable."
   ]
  },
  {
   "cell_type": "markdown",
   "id": "0a6b2050",
   "metadata": {},
   "source": [
    "### Nested Loops\n",
    "\n",
    "A nested loop is a loop inside another loop. In other words, a loop is \"nested\" within another loop.\n",
    "\n",
    "Nested loops are used when you want to perform a task multiple times with different combinations of input values. For example, you might use a nested loop to iterate over the rows and columns of a two-dimensional data structure, such as a matrix."
   ]
  },
  {
   "cell_type": "code",
   "execution_count": 179,
   "id": "e2ab7f93",
   "metadata": {},
   "outputs": [
    {
     "name": "stdout",
     "output_type": "stream",
     "text": [
      "1 x 0 = 0\n",
      "1 x 1 = 1\n",
      "1 x 2 = 2\n",
      "1 x 3 = 3\n",
      "1 x 4 = 4\n",
      "1 x 5 = 5\n",
      "1 x 6 = 6\n",
      "1 x 7 = 7\n",
      "1 x 8 = 8\n",
      "1 x 9 = 9\n",
      "1 x 10 = 10\n",
      "1 x 11 = 11\n",
      "1 x 12 = 12\n",
      "1 x 13 = 13\n",
      "1 x 14 = 14\n",
      "1 x 15 = 15\n",
      "1 x 16 = 16\n"
     ]
    }
   ],
   "source": [
    "number_of_tables = 2\n",
    "muliplicands = 16 \n",
    "\n",
    "for i in range(1, number_of_tables):\n",
    "    for j in range(0, muliplicands + 1): # I added one so the loop would go till the exact desired number & not n-1\n",
    "        product = i * j\n",
    "        print(f\"{i} x {j} = {product}\")"
   ]
  },
  {
   "cell_type": "markdown",
   "id": "c990e92f",
   "metadata": {},
   "source": [
    "The outer for loop iterates over the numbers 1 through 10, and the inner for loop iterates over the numbers 1 through 10 for each value of the outer loop.\n",
    "\n",
    "This example shows how a nested loop can be used to generate a simple, yet useful output by iterating over a range of numbers and performing a calculation on each combination of values. It also demonstrates how the `f-strings` feature of Python can be used to easily format the output."
   ]
  },
  {
   "cell_type": "markdown",
   "id": "c494d86d",
   "metadata": {},
   "source": [
    "## 6. Strings\n",
    "\n",
    "1. Multple ways to assign them\n",
    "2. String slicing\n",
    "3. String methods\n"
   ]
  },
  {
   "cell_type": "markdown",
   "id": "f4cb31ae",
   "metadata": {},
   "source": [
    "### Creatint Strings\n",
    "There are several ways to assign a string in Python. The most common way is to use single or double quotes:"
   ]
  },
  {
   "cell_type": "code",
   "execution_count": 180,
   "id": "68e36dd2",
   "metadata": {},
   "outputs": [],
   "source": [
    "string_1 = 'Hello, world!'\n",
    "string_2 = \"Hello, world!\""
   ]
  },
  {
   "cell_type": "markdown",
   "id": "9cd0cfc1",
   "metadata": {},
   "source": [
    "You can also use triple quotes to create a multi-line string:"
   ]
  },
  {
   "cell_type": "code",
   "execution_count": 181,
   "id": "aa353ea2",
   "metadata": {},
   "outputs": [
    {
     "data": {
      "text/plain": [
       "'Hello,\\nworld!'"
      ]
     },
     "execution_count": 181,
     "metadata": {},
     "output_type": "execute_result"
    }
   ],
   "source": [
    "string_3 = \"\"\"Hello,\n",
    "world!\"\"\"\n",
    "string_3"
   ]
  },
  {
   "cell_type": "markdown",
   "id": "7948772f",
   "metadata": {},
   "source": [
    "You can use the `+` operator to concatenate (join) two or more strings:"
   ]
  },
  {
   "cell_type": "code",
   "execution_count": 182,
   "id": "af7887a8",
   "metadata": {},
   "outputs": [
    {
     "data": {
      "text/plain": [
       "'Hello, world!'"
      ]
     },
     "execution_count": 182,
     "metadata": {},
     "output_type": "execute_result"
    }
   ],
   "source": [
    "string_4 = \"Hello, \" + \"world!\"\n",
    "string_4"
   ]
  },
  {
   "cell_type": "markdown",
   "id": "1b9ed4f4",
   "metadata": {},
   "source": [
    "You can also use the `*` operator to repeat a string a certain number of times:"
   ]
  },
  {
   "cell_type": "code",
   "execution_count": 183,
   "id": "aafd383e",
   "metadata": {},
   "outputs": [
    {
     "data": {
      "text/plain": [
       "'Hello Hello Hello '"
      ]
     },
     "execution_count": 183,
     "metadata": {},
     "output_type": "execute_result"
    }
   ],
   "source": [
    "string_5 = \"Hello \" * 3\n",
    "string_5"
   ]
  },
  {
   "cell_type": "markdown",
   "id": "c3a25895",
   "metadata": {},
   "source": [
    "This will create a string that contains `\"Hello, \"` repeated `3` times.\n",
    "\n",
    "Finally, you can use the `str()` function to convert a non-string value (such as a number) to a string:"
   ]
  },
  {
   "cell_type": "code",
   "execution_count": 184,
   "id": "644fc598",
   "metadata": {},
   "outputs": [
    {
     "name": "stdout",
     "output_type": "stream",
     "text": [
      "42\n"
     ]
    },
    {
     "data": {
      "text/plain": [
       "str"
      ]
     },
     "execution_count": 184,
     "metadata": {},
     "output_type": "execute_result"
    }
   ],
   "source": [
    "number = 42\n",
    "string_6 = str(number)\n",
    "\n",
    "print(string_6)\n",
    "type(string_6)"
   ]
  },
  {
   "cell_type": "markdown",
   "id": "7f309784",
   "metadata": {},
   "source": [
    "### Slicing Strings\n",
    "\n",
    "In Python, you can use slicing to extract a part of a string (a substring). Slicing uses the syntax `string[start:stop:step]`, where start is the index of the first character to include in the substring, stop is the index of the first character to exclude from the substring, and step is the number of characters to skip between consecutive characters in the substring.\n",
    "\n",
    "Here is an example of slicing a string in Python:"
   ]
  },
  {
   "cell_type": "code",
   "execution_count": 185,
   "id": "355276a5",
   "metadata": {},
   "outputs": [
    {
     "name": "stdout",
     "output_type": "stream",
     "text": [
      "Python\n"
     ]
    }
   ],
   "source": [
    "string = \"Python is Snakey\"\n",
    "substring = string[0:6] # (n - 1), index starts from 0\n",
    "print(substring)  # prints \"Python\""
   ]
  },
  {
   "cell_type": "markdown",
   "id": "9fdacc2c",
   "metadata": {},
   "source": [
    "Below are some more examples of string slicing."
   ]
  },
  {
   "cell_type": "code",
   "execution_count": 186,
   "id": "e18b9a48",
   "metadata": {},
   "outputs": [
    {
     "name": "stdout",
     "output_type": "stream",
     "text": [
      "Hello\n"
     ]
    }
   ],
   "source": [
    "string = \"Hello, world!\"\n",
    "\n",
    "# Extract the first 5 characters\n",
    "substring = string[:5]\n",
    "print(substring)  # prints \"Hello\""
   ]
  },
  {
   "cell_type": "code",
   "execution_count": 187,
   "id": "bcaa7518",
   "metadata": {},
   "outputs": [
    {
     "name": "stdout",
     "output_type": "stream",
     "text": [
      "orld!\n"
     ]
    }
   ],
   "source": [
    "# Extract the last 5 characters\n",
    "substring = string[-5:]\n",
    "print(substring) "
   ]
  },
  {
   "cell_type": "code",
   "execution_count": 188,
   "id": "d1400a5d",
   "metadata": {},
   "outputs": [
    {
     "name": "stdout",
     "output_type": "stream",
     "text": [
      ",\n"
     ]
    }
   ],
   "source": [
    "# Extract the character at index 5\n",
    "substring = string[5]\n",
    "print(substring)"
   ]
  },
  {
   "cell_type": "code",
   "execution_count": 189,
   "id": "e6dae091",
   "metadata": {},
   "outputs": [
    {
     "name": "stdout",
     "output_type": "stream",
     "text": [
      "Hlo ol!\n"
     ]
    }
   ],
   "source": [
    "# Extract the characters at even indices (0, 2, 4, etc.)\n",
    "substring = string[::2]\n",
    "print(substring) "
   ]
  },
  {
   "cell_type": "code",
   "execution_count": 190,
   "id": "35d0b877",
   "metadata": {},
   "outputs": [
    {
     "name": "stdout",
     "output_type": "stream",
     "text": [
      "el,wrd\n"
     ]
    }
   ],
   "source": [
    "# Extract the characters at odd indices (1, 3, 5, etc.)\n",
    "substring = string[1::2]\n",
    "print(substring)"
   ]
  },
  {
   "cell_type": "code",
   "execution_count": 191,
   "id": "81aed132",
   "metadata": {},
   "outputs": [
    {
     "name": "stdout",
     "output_type": "stream",
     "text": [
      "!dlrow ,olleH\n"
     ]
    }
   ],
   "source": [
    "# Extract the characters in reverse order\n",
    "substring = string[::-1]\n",
    "print(substring)"
   ]
  },
  {
   "cell_type": "code",
   "execution_count": 192,
   "id": "70fa224d",
   "metadata": {},
   "outputs": [
    {
     "name": "stdout",
     "output_type": "stream",
     "text": [
      "Happy\n",
      "Sad\n"
     ]
    }
   ],
   "source": [
    "# Finding an element within a string\n",
    "string = \"Python is beautiful\"\n",
    "print(\"Happy\") if \"Python\" in string else print(\"Sad\")\n",
    "\n",
    "string = \"Java is beautiful\"\n",
    "print(\"Happy\") if \"Python\" in string else print(\"Sad\")"
   ]
  },
  {
   "cell_type": "markdown",
   "id": "297b18ca",
   "metadata": {},
   "source": [
    "These examples demonstrate how you can use slicing to extract different parts of a string, using various combinations of start, stop, and step indices. Slicing is a powerful and convenient way to manipulate strings in Python."
   ]
  },
  {
   "cell_type": "markdown",
   "id": "b54cadd3",
   "metadata": {},
   "source": [
    "### String Methods"
   ]
  },
  {
   "cell_type": "code",
   "execution_count": 193,
   "id": "6200fa8b",
   "metadata": {},
   "outputs": [],
   "source": [
    "string = \"Hello, world!\""
   ]
  },
  {
   "cell_type": "code",
   "execution_count": 194,
   "id": "d9d7710e",
   "metadata": {},
   "outputs": [
    {
     "name": "stdout",
     "output_type": "stream",
     "text": [
      "HELLO, WORLD!\n"
     ]
    }
   ],
   "source": [
    "# Convert the string to uppercase\n",
    "uppercase_string = string.upper()\n",
    "print(uppercase_string)"
   ]
  },
  {
   "cell_type": "code",
   "execution_count": 195,
   "id": "1816d667",
   "metadata": {},
   "outputs": [
    {
     "name": "stdout",
     "output_type": "stream",
     "text": [
      "hello, world!\n"
     ]
    }
   ],
   "source": [
    "# Convert the string to lowercase\n",
    "lowercase_string = string.lower()\n",
    "print(lowercase_string)"
   ]
  },
  {
   "cell_type": "code",
   "execution_count": 196,
   "id": "3225dbfa",
   "metadata": {},
   "outputs": [
    {
     "name": "stdout",
     "output_type": "stream",
     "text": [
      "True\n"
     ]
    }
   ],
   "source": [
    "# Check if the string starts with a specific substring\n",
    "result = string.startswith(\"Hello\")\n",
    "print(result)"
   ]
  },
  {
   "cell_type": "code",
   "execution_count": 197,
   "id": "d148d247",
   "metadata": {},
   "outputs": [
    {
     "name": "stdout",
     "output_type": "stream",
     "text": [
      "True\n"
     ]
    }
   ],
   "source": [
    "# Check if the string ends with a specific substring\n",
    "result = string.endswith(\"world!\")\n",
    "print(result)"
   ]
  },
  {
   "cell_type": "code",
   "execution_count": 198,
   "id": "fc1f87d0",
   "metadata": {},
   "outputs": [
    {
     "name": "stdout",
     "output_type": "stream",
     "text": [
      "7\n"
     ]
    }
   ],
   "source": [
    "# Find the index of the first occurrence of a specific substring\n",
    "index = string.index(\"world\")\n",
    "print(index)"
   ]
  },
  {
   "cell_type": "code",
   "execution_count": 199,
   "id": "d0f8db75",
   "metadata": {},
   "outputs": [
    {
     "name": "stdout",
     "output_type": "stream",
     "text": [
      "Hello, universe!\n"
     ]
    }
   ],
   "source": [
    "# Replace a specific substring with another string\n",
    "new_string = string.replace(\"world\", \"universe\")\n",
    "print(new_string)"
   ]
  },
  {
   "cell_type": "code",
   "execution_count": 200,
   "id": "1cf849a0",
   "metadata": {},
   "outputs": [
    {
     "name": "stdout",
     "output_type": "stream",
     "text": [
      "False\n",
      "True\n"
     ]
    }
   ],
   "source": [
    "# Check if a string has a digit\n",
    "result = any(char.isdigit() for char in string)\n",
    "print(result)\n",
    "\n",
    "string = \"Hello World/2\"\n",
    "result = any(char.isdigit() for char in string)\n",
    "print(result)"
   ]
  },
  {
   "cell_type": "markdown",
   "id": "e8755d69",
   "metadata": {},
   "source": [
    "## 7. Lists\n",
    "1. Creating lists\n",
    "2. List slicing and iterating\n",
    "3. List methods\n",
    "4. Nested lists\n",
    "\n",
    "In Python, a list is an ordered collection of items. Lists can contain elements of different data types, including integers, floating-point numbers, strings, and even other lists. Lists are created using square brackets (`[]`) to enclose a comma-separated sequence of values.\n",
    "\n",
    "Lists are an important data type in Python and are used to store and manipulate collections of values. Lists are dynamic, which means you can add or remove elements from a list after it is created. You can also access, modify, and iterate over the elements of a list using indexing, slicing, and looping."
   ]
  },
  {
   "cell_type": "code",
   "execution_count": 201,
   "id": "59da6369",
   "metadata": {},
   "outputs": [],
   "source": [
    "# Create a list of integers\n",
    "list_1 = [1, 2, 3, 4, 5]\n",
    "\n",
    "# Create a list of strings\n",
    "list_2 = ['apple', 'banana', 'cherry']\n",
    "\n",
    "# Create a list of mixed data types\n",
    "list_3 = [1, 'apple', 3.14, True]"
   ]
  },
  {
   "cell_type": "markdown",
   "id": "7ca425fd",
   "metadata": {},
   "source": [
    "You can also use the `list()` function to create a list from an iterable, such as a string or another list. For example:"
   ]
  },
  {
   "cell_type": "code",
   "execution_count": 202,
   "id": "7f1872d0",
   "metadata": {},
   "outputs": [
    {
     "name": "stdout",
     "output_type": "stream",
     "text": [
      "['h', 'e', 'l', 'l', 'o']\n"
     ]
    }
   ],
   "source": [
    "# Create a list from a string\n",
    "string = \"hello\"\n",
    "list_4 = list(string)\n",
    "print(list_4)"
   ]
  },
  {
   "cell_type": "code",
   "execution_count": 203,
   "id": "4ebe2757",
   "metadata": {},
   "outputs": [
    {
     "name": "stdout",
     "output_type": "stream",
     "text": [
      "[4, 5, 'Lists']\n"
     ]
    }
   ],
   "source": [
    "# Create a list from another list\n",
    "test_lst = [4, 5, \"Lists\"]\n",
    "list_5 = list(test_lst)\n",
    "print(list_5)"
   ]
  },
  {
   "cell_type": "markdown",
   "id": "26597bba",
   "metadata": {},
   "source": [
    "### List Slicing\n",
    "In Python, you can use slicing to extract a part of a list (a sublist). Slicing uses the syntax `list[start:stop:step]`, where start is the index of the first element to include in the sublist, stop is the index of the first element to exclude from the sublist, and step is the number of elements to skip between consecutive elements in the sublist.\n",
    "\n",
    "***Same as we did in Strings.***\n",
    "\n",
    "Here are some examples of slicing lists in Python:"
   ]
  },
  {
   "cell_type": "code",
   "execution_count": 204,
   "id": "d9239cba",
   "metadata": {},
   "outputs": [],
   "source": [
    "# Create a list of integers\n",
    "numbers = [1, 2, 3, 4, 5, 6, 7, 8, 9, 10]"
   ]
  },
  {
   "cell_type": "code",
   "execution_count": 205,
   "id": "0625d991",
   "metadata": {},
   "outputs": [
    {
     "name": "stdout",
     "output_type": "stream",
     "text": [
      "[1, 2, 3, 4, 5]\n"
     ]
    }
   ],
   "source": [
    "# Extract the first 5 elements\n",
    "sublist = numbers[:5]\n",
    "print(sublist)"
   ]
  },
  {
   "cell_type": "code",
   "execution_count": 206,
   "id": "a3af5e17",
   "metadata": {},
   "outputs": [
    {
     "name": "stdout",
     "output_type": "stream",
     "text": [
      "[6, 7, 8, 9, 10]\n"
     ]
    }
   ],
   "source": [
    "# Extract the last 5 elements\n",
    "sublist = numbers[5:]\n",
    "print(sublist)"
   ]
  },
  {
   "cell_type": "code",
   "execution_count": 207,
   "id": "1bd14262",
   "metadata": {},
   "outputs": [
    {
     "name": "stdout",
     "output_type": "stream",
     "text": [
      "[1, 3, 5, 7, 9]\n"
     ]
    }
   ],
   "source": [
    "# Extract the elements at even indices (0, 2, 4, etc.)\n",
    "sublist = numbers[::2]\n",
    "print(sublist)"
   ]
  },
  {
   "cell_type": "code",
   "execution_count": 208,
   "id": "87cadd07",
   "metadata": {},
   "outputs": [
    {
     "name": "stdout",
     "output_type": "stream",
     "text": [
      "[2, 4, 6, 8, 10]\n"
     ]
    }
   ],
   "source": [
    "# Extract the elements at odd indices (1, 3, 5, etc.)\n",
    "sublist = numbers[1::2]\n",
    "print(sublist) "
   ]
  },
  {
   "cell_type": "code",
   "execution_count": 209,
   "id": "db296e32",
   "metadata": {},
   "outputs": [
    {
     "name": "stdout",
     "output_type": "stream",
     "text": [
      "[10, 9, 8, 7, 6, 5, 4, 3, 2, 1]\n"
     ]
    }
   ],
   "source": [
    "# Extract the elements in reverse order\n",
    "sublist = numbers[::-1]\n",
    "print(sublist)"
   ]
  },
  {
   "cell_type": "markdown",
   "id": "dc8a21c6",
   "metadata": {},
   "source": [
    "These examples demonstrate how you can use slicing to extract different parts of a list, using various combinations of start, stop, and step indices. Slicing is a powerful and convenient way to manipulate lists in Python.\n",
    "\n",
    "### List Iterating\n",
    "We can print out the elements in a list via a `for` loop."
   ]
  },
  {
   "cell_type": "code",
   "execution_count": 210,
   "id": "5716311e",
   "metadata": {},
   "outputs": [
    {
     "name": "stdout",
     "output_type": "stream",
     "text": [
      "Apple\n",
      "Kiwi\n",
      "Orange\n"
     ]
    }
   ],
   "source": [
    "fruits = [\"Apple\", \"Kiwi\", \"Orange\"]\n",
    "for fruit in fruits:\n",
    "    print(fruit)"
   ]
  },
  {
   "cell_type": "code",
   "execution_count": 211,
   "id": "aa11baa3",
   "metadata": {},
   "outputs": [
    {
     "name": "stdout",
     "output_type": "stream",
     "text": [
      "55\n"
     ]
    }
   ],
   "source": [
    "# Something more fun - Use a for loop to print the sum of all elements\n",
    "numbers = [1, 2, 3, 4, 5, 6, 7, 8, 9, 10]\n",
    "sum = 0\n",
    "for number in numbers:\n",
    "    sum += number\n",
    "print(sum) "
   ]
  },
  {
   "cell_type": "markdown",
   "id": "2208848e",
   "metadata": {},
   "source": [
    "### List Methods"
   ]
  },
  {
   "cell_type": "code",
   "execution_count": 212,
   "id": "f4a8e9d0",
   "metadata": {},
   "outputs": [],
   "source": [
    "# Create a list of integers\n",
    "numbers = [1, 2, 3, 4, 5]"
   ]
  },
  {
   "cell_type": "code",
   "execution_count": 213,
   "id": "1c46e237",
   "metadata": {},
   "outputs": [
    {
     "name": "stdout",
     "output_type": "stream",
     "text": [
      "[1, 2, 3, 4, 5, 6]\n"
     ]
    }
   ],
   "source": [
    "# Append an element to the end of the list\n",
    "numbers.append(6)\n",
    "print(numbers) "
   ]
  },
  {
   "cell_type": "code",
   "execution_count": 214,
   "id": "25a2d460",
   "metadata": {},
   "outputs": [
    {
     "name": "stdout",
     "output_type": "stream",
     "text": [
      "[1, 2, 7, 3, 4, 5, 6]\n"
     ]
    }
   ],
   "source": [
    "# Insert an element at a specific index\n",
    "numbers.insert(2, 7)\n",
    "print(numbers) "
   ]
  },
  {
   "cell_type": "code",
   "execution_count": 215,
   "id": "660eea54",
   "metadata": {},
   "outputs": [
    {
     "name": "stdout",
     "output_type": "stream",
     "text": [
      "[1, 2, 7, 4, 5, 6]\n"
     ]
    }
   ],
   "source": [
    "# Remove an element by value\n",
    "numbers.remove(3)\n",
    "print(numbers)"
   ]
  },
  {
   "cell_type": "code",
   "execution_count": 216,
   "id": "61148172",
   "metadata": {},
   "outputs": [
    {
     "name": "stdout",
     "output_type": "stream",
     "text": [
      "[1, 2, 7, 4, 6]\n"
     ]
    }
   ],
   "source": [
    "# Remove an element by index\n",
    "numbers.pop(4)\n",
    "print(numbers) "
   ]
  },
  {
   "cell_type": "code",
   "execution_count": 217,
   "id": "68ae0636",
   "metadata": {},
   "outputs": [
    {
     "name": "stdout",
     "output_type": "stream",
     "text": [
      "2\n"
     ]
    }
   ],
   "source": [
    "# Find the index of an element\n",
    "index = numbers.index(7)\n",
    "print(index)"
   ]
  },
  {
   "cell_type": "code",
   "execution_count": 218,
   "id": "ac9c6265",
   "metadata": {},
   "outputs": [
    {
     "name": "stdout",
     "output_type": "stream",
     "text": [
      "1\n"
     ]
    }
   ],
   "source": [
    "# Count the number of occurrences of an element\n",
    "count = numbers.count(7)\n",
    "print(count)"
   ]
  },
  {
   "cell_type": "code",
   "execution_count": 219,
   "id": "df4ce6f9",
   "metadata": {},
   "outputs": [
    {
     "name": "stdout",
     "output_type": "stream",
     "text": [
      "[1, 2, 4, 6, 7]\n"
     ]
    }
   ],
   "source": [
    "# Sort the list in ascending order\n",
    "numbers.sort()\n",
    "print(numbers)"
   ]
  },
  {
   "cell_type": "code",
   "execution_count": 220,
   "id": "e8434eaf",
   "metadata": {},
   "outputs": [
    {
     "name": "stdout",
     "output_type": "stream",
     "text": [
      "[7, 6, 4, 2, 1]\n"
     ]
    }
   ],
   "source": [
    "# Reverse the order of the list\n",
    "numbers.reverse()\n",
    "print(numbers)"
   ]
  },
  {
   "cell_type": "markdown",
   "id": "36821eb5",
   "metadata": {},
   "source": [
    "These examples demonstrate how you can use various list methods to manipulate and modify a list in Python. There are many other list methods available, and you can find a complete list in the Python documentation."
   ]
  },
  {
   "cell_type": "markdown",
   "id": "18d1f998",
   "metadata": {},
   "source": [
    "### Nested Lists\n",
    "In the example below, the nested list contains three inner lists, each with three elements. You can access an element of the inner list using two sets of square brackets and the indices of the element.\n",
    "\n",
    "Nested lists can be useful for organizing and storing data in a hierarchical or multi-dimensional structure. You can use loops and list indexing to iterate over and manipulate the elements of a nested list."
   ]
  },
  {
   "cell_type": "code",
   "execution_count": 221,
   "id": "07ca6ecf",
   "metadata": {},
   "outputs": [
    {
     "name": "stdout",
     "output_type": "stream",
     "text": [
      "5\n"
     ]
    }
   ],
   "source": [
    "# Create a list of lists\n",
    "nested_list = [[1, 2, 3], [4, 5, 6], [7, 8, 9]]\n",
    "\n",
    "# Access an element of the inner list\n",
    "print(nested_list[1][1])"
   ]
  },
  {
   "cell_type": "markdown",
   "id": "ba3ab6d1",
   "metadata": {},
   "source": [
    "## 8. Tuples\n",
    "\n",
    "1. Creating tuples\n",
    "2. Slicing tuples (Similar to Strings & Lists)\n",
    "3. Tuple methods\n",
    "\n",
    "\n",
    "In Python, a tuple is an `immutable` sequence data type. Tuples are similar to lists, but they are created using parentheses (`()`) instead of square brackets (`[]`). Tuples are ordered collections of elements, and they can contain elements of different data types, like strings, integers, and floating-point numbers.\n",
    "\n",
    "### Creating Tuples"
   ]
  },
  {
   "cell_type": "code",
   "execution_count": 222,
   "id": "c0d122ba",
   "metadata": {},
   "outputs": [],
   "source": [
    "# Create a tuple of integers\n",
    "tuple1 = (1, 2, 3, 4, 5)\n",
    "\n",
    "# Create a tuple of strings\n",
    "tuple2 = ('apple', 'banana', 'cherry')\n",
    "\n",
    "# Create a tuple of mixed data types\n",
    "tuple3 = (1, 'apple', 3.14, True)\n",
    "\n",
    "# Create an empty tuple\n",
    "tuple4 = ()"
   ]
  },
  {
   "cell_type": "markdown",
   "id": "5f746be8",
   "metadata": {},
   "source": [
    "Tuples are immutable, which means you cannot add or remove elements from a tuple, or modify the elements of a tuple. However, you can access, slice, and iterate over the elements of a tuple using indexing, slicing, and looping. You can also use the len() function to determine the length of a tuple, and the tuple() function to convert an iterable, such as a list, into a tuple.\n",
    "\n",
    "Tuples are often used to store fixed sets of data, such as the names of the days of the week or the coordinates of a point in space. They are also used to return multiple values from a function and to unpack multiple values into separate variables."
   ]
  },
  {
   "cell_type": "markdown",
   "id": "343a0b75",
   "metadata": {},
   "source": [
    "### Slicing Tuples\n",
    "\n",
    "Same as Lists and Strings. Won't repeat."
   ]
  },
  {
   "cell_type": "markdown",
   "id": "3163c435",
   "metadata": {},
   "source": [
    "### Tuple Methods\n",
    "Tuples are immutable, which means they do not have any methods that modify the tuple itself. However, tuples do have several built-in functions that you can use to perform various operations on tuples.\n",
    "\n",
    "Here are some examples of tuple functions in Python:"
   ]
  },
  {
   "cell_type": "code",
   "execution_count": 223,
   "id": "d0b09833",
   "metadata": {},
   "outputs": [],
   "source": [
    "# Create a tuple of integers\n",
    "tuple_1 = (1, 2, 3, 4, 5)"
   ]
  },
  {
   "cell_type": "code",
   "execution_count": 224,
   "id": "03e5a3e2",
   "metadata": {},
   "outputs": [
    {
     "name": "stdout",
     "output_type": "stream",
     "text": [
      "5\n"
     ]
    }
   ],
   "source": [
    "# Use the len() function to determine the length of the tuple\n",
    "length = len(tuple_1)\n",
    "print(length)"
   ]
  },
  {
   "cell_type": "code",
   "execution_count": 225,
   "id": "518f0835",
   "metadata": {},
   "outputs": [
    {
     "name": "stdout",
     "output_type": "stream",
     "text": [
      "1\n",
      "5\n"
     ]
    }
   ],
   "source": [
    "# Use the min() and max() functions to find the minimum and maximum elements\n",
    "minimum = min(tuple_1)\n",
    "maximum = max(tuple_1)\n",
    "\n",
    "print(minimum)\n",
    "print(maximum)"
   ]
  },
  {
   "cell_type": "code",
   "execution_count": 226,
   "id": "1faf9fc1",
   "metadata": {},
   "outputs": [
    {
     "name": "stdout",
     "output_type": "stream",
     "text": [
      "(1, 2, 3, 4, 5)\n"
     ]
    }
   ],
   "source": [
    "# Use the sorted() function to create a new sorted tuple\n",
    "sorted_tuple = tuple(sorted(tuple_1))\n",
    "print(sorted_tuple)"
   ]
  },
  {
   "cell_type": "code",
   "execution_count": 227,
   "id": "4edc89bb",
   "metadata": {},
   "outputs": [
    {
     "name": "stdout",
     "output_type": "stream",
     "text": [
      "(1, 2, 3)\n"
     ]
    }
   ],
   "source": [
    "# Use the tuple() function to create a tuple from a list\n",
    "list_1 = [1, 2, 3]\n",
    "tuple_2 = tuple(list_1)\n",
    "print(tuple_2)"
   ]
  },
  {
   "cell_type": "markdown",
   "id": "a5664f61",
   "metadata": {},
   "source": [
    "## 9. Dictionaries\n",
    "\n",
    "1. Creating dictionaries\n",
    "2. Iterating over dictionaries\n",
    "3. Dictionary methods\n",
    "\n",
    "*In Python, you cannot slice a dictionary because dictionaries are unordered collections of key-value pairs and do not have a defined sequence. Slicing requires a defined sequence of elements, such as a list or a tuple, but dictionaries do not have an inherent order to their elements.*\n"
   ]
  },
  {
   "cell_type": "markdown",
   "id": "976ad195",
   "metadata": {},
   "source": [
    "In Python, a dictionary is an unordered collection of data values that are stored as key-value pairs. Dictionaries are created using curly braces (`{}`) and are accessed using keys, which are unique identifiers for each value in the dictionary. Dictionaries can contain keys and values of different data types, like strings, integers, and floating-point numbers."
   ]
  },
  {
   "cell_type": "markdown",
   "id": "5e99548b",
   "metadata": {},
   "source": [
    "### Creating Dictionaries"
   ]
  },
  {
   "cell_type": "code",
   "execution_count": 228,
   "id": "5ecbcc0d",
   "metadata": {},
   "outputs": [],
   "source": [
    "# Create a dictionary with string keys and integer values\n",
    "dict1 = {'a': 1, 'b': 2, 'c': 3}\n",
    "\n",
    "# Create a dictionary with integer keys and string values\n",
    "dict2 = {1: 'apple', 2: 'banana', 3: 'cherry'}\n",
    "\n",
    "# Create a dictionary with mixed data types\n",
    "dict3 = {'a': 1, 2: 'apple', 'c': 3.14, 4: True}\n",
    "\n",
    "# Create an empty dictionary\n",
    "dict4 = {}\n"
   ]
  },
  {
   "cell_type": "markdown",
   "id": "2c255eb6",
   "metadata": {},
   "source": [
    "In a dictionary, each key is associated with a single value, and you can use the keys to access the values in the dictionary. You can use the len() function to determine the number of key-value pairs in a dictionary, and the del statement to delete a key-value pair from a dictionary. You can also use loops and dictionary methods to iterate over and manipulate the elements of a dictionary.\n",
    "\n",
    "Dictionaries are useful for storing data that needs to be quickly accessed using keys, such as the results of a database query or the contents of a configuration file. They are also used to count the frequency of elements in a list or to create a mapping between two sets of data."
   ]
  },
  {
   "cell_type": "code",
   "execution_count": 229,
   "id": "8cf3313a",
   "metadata": {},
   "outputs": [
    {
     "name": "stdout",
     "output_type": "stream",
     "text": [
      "a: 1\n",
      "b: 2\n",
      "c: 3\n"
     ]
    }
   ],
   "source": [
    "# Create a dictionary with string keys and integer values\n",
    "dict1 = {'a': 1, 'b': 2, 'c': 3}\n",
    "\n",
    "# Use a for loop to print the keys and values of the dictionary\n",
    "for key, value in dict1.items():\n",
    "    print(f'{key}: {value}')"
   ]
  },
  {
   "cell_type": "markdown",
   "id": "fc4d5337",
   "metadata": {},
   "source": [
    "This code uses a for loop and the `items()` method to iterate over the key-value pairs of the dictionary and print the `keys` and `values`. You can use similar techniques to perform various operations on the elements of a dictionary, such as filtering or transforming the values or creating a new dictionary based on the keys or values."
   ]
  },
  {
   "cell_type": "markdown",
   "id": "a8777f91",
   "metadata": {},
   "source": [
    "### Dictionary Methods"
   ]
  },
  {
   "cell_type": "code",
   "execution_count": 230,
   "id": "2fd39f38",
   "metadata": {},
   "outputs": [],
   "source": [
    "# Create a dictionary with string keys and integer values\n",
    "dict1 = {'a': 1, 'b': 2, 'c': 3}"
   ]
  },
  {
   "cell_type": "code",
   "execution_count": 231,
   "id": "f12ab99b",
   "metadata": {},
   "outputs": [
    {
     "name": "stdout",
     "output_type": "stream",
     "text": [
      "dict_keys(['a', 'b', 'c'])\n"
     ]
    }
   ],
   "source": [
    "# Use the keys() method to get a view of the keys\n",
    "keys = dict1.keys()\n",
    "print(keys)"
   ]
  },
  {
   "cell_type": "code",
   "execution_count": 232,
   "id": "a4dce595",
   "metadata": {},
   "outputs": [
    {
     "name": "stdout",
     "output_type": "stream",
     "text": [
      "dict_values([1, 2, 3])\n"
     ]
    }
   ],
   "source": [
    "# Use the values() method to get a view of the values\n",
    "values = dict1.values()\n",
    "print(values)"
   ]
  },
  {
   "cell_type": "code",
   "execution_count": 233,
   "id": "91eb241d",
   "metadata": {},
   "outputs": [
    {
     "name": "stdout",
     "output_type": "stream",
     "text": [
      "dict_items([('a', 1), ('b', 2), ('c', 3)])\n"
     ]
    }
   ],
   "source": [
    "# Use the items() method to get a view of the key-value pairs\n",
    "items = dict1.items()\n",
    "print(items)"
   ]
  },
  {
   "cell_type": "code",
   "execution_count": 234,
   "id": "b3ff45d9",
   "metadata": {},
   "outputs": [
    {
     "name": "stdout",
     "output_type": "stream",
     "text": [
      "1\n"
     ]
    }
   ],
   "source": [
    "# Use the get() method to retrieve a value for a key\n",
    "value = dict1.get('a')\n",
    "print(value)"
   ]
  },
  {
   "cell_type": "code",
   "execution_count": 235,
   "id": "10d9ad3c",
   "metadata": {},
   "outputs": [
    {
     "name": "stdout",
     "output_type": "stream",
     "text": [
      "0\n"
     ]
    }
   ],
   "source": [
    "# Use the get() method with a default value\n",
    "value = dict1.get('d', 0)\n",
    "print(value)"
   ]
  },
  {
   "cell_type": "code",
   "execution_count": 236,
   "id": "cc15c224",
   "metadata": {},
   "outputs": [
    {
     "name": "stdout",
     "output_type": "stream",
     "text": [
      "1\n",
      "{'b': 2, 'c': 3}\n"
     ]
    }
   ],
   "source": [
    "# Use the pop() method to remove a key-value pair\n",
    "value = dict1.pop('a')\n",
    "print(value)\n",
    "print(dict1) "
   ]
  },
  {
   "cell_type": "code",
   "execution_count": 237,
   "id": "90ed3104",
   "metadata": {},
   "outputs": [
    {
     "name": "stdout",
     "output_type": "stream",
     "text": [
      "{'b': 3, 'c': 3, 'd': 4}\n"
     ]
    }
   ],
   "source": [
    "# Use the update() method to add or update key-value pairs\n",
    "dict1.update({'b': 3, 'd': 4})\n",
    "print(dict1)"
   ]
  },
  {
   "cell_type": "code",
   "execution_count": 238,
   "id": "1bbe9510",
   "metadata": {},
   "outputs": [
    {
     "name": "stdout",
     "output_type": "stream",
     "text": [
      "{}\n"
     ]
    }
   ],
   "source": [
    "# Use the clear() method to remove all key-value pairs\n",
    "dict1.clear()\n",
    "print(dict1) "
   ]
  },
  {
   "cell_type": "markdown",
   "id": "7f1afc35",
   "metadata": {},
   "source": [
    "These examples demonstrate how you can use dictionary methods to retrieve, modify, and manipulate the elements of a dictionary in Python. You can find a complete list of dictionary methods in the Python documentation."
   ]
  },
  {
   "cell_type": "markdown",
   "id": "3b5d1cf5",
   "metadata": {},
   "source": [
    "## 10. Sets\n",
    "* Creating sets\n",
    "* Set Methods (Union, Intersection, etc.)\n",
    "\n",
    "In Python, a set is an unordered collection of unique elements. Sets are created using curly braces (`{}`) or the `set()` function, and they can contain elements of different data types, like strings, integers, and floating-point numbers.\n",
    "\n",
    "### Creating Sets"
   ]
  },
  {
   "cell_type": "code",
   "execution_count": 240,
   "id": "ebde6c10",
   "metadata": {},
   "outputs": [],
   "source": [
    "# Create a set using curly braces\n",
    "set1 = {1, 2, 3, 4, 5}\n",
    "\n",
    "# Create a set using the set() function\n",
    "set2 = set([1, 2, 3, 4, 5])\n",
    "\n",
    "# Create a set from a string\n",
    "set3 = set('abcdef')\n",
    "\n",
    "# Create an empty set\n",
    "set4 = set()"
   ]
  },
  {
   "cell_type": "markdown",
   "id": "66cd697a",
   "metadata": {},
   "source": [
    "Sets do not allow duplicate elements, and they do not preserve the order of the elements. You can use the `len()` function to determine the number of elements in a set, and the in operator to check if an element is in a set. You can also use `loops` and `set methods` to iterate over and manipulate the elements of a set.\n",
    "\n",
    "Sets are useful for storing data that needs to be unique, such as the names of students in a class or the words in a document. They are also used to perform set operations, such as `intersection`, `union`, and `difference`."
   ]
  },
  {
   "cell_type": "markdown",
   "id": "acc0aad8",
   "metadata": {},
   "source": [
    "### Iterating over Sets"
   ]
  },
  {
   "cell_type": "code",
   "execution_count": 247,
   "id": "f007c874",
   "metadata": {},
   "outputs": [
    {
     "name": "stdout",
     "output_type": "stream",
     "text": [
      "1\n",
      "2\n",
      "3\n",
      "4\n",
      "5\n"
     ]
    }
   ],
   "source": [
    "# Create a set of integers\n",
    "set_1 = {1, 2, 3, 4, 5}\n",
    "\n",
    "# Use a for loop to iterate over the elements of the set\n",
    "for element in set_1:\n",
    "    print(element)"
   ]
  },
  {
   "cell_type": "markdown",
   "id": "7e2046af",
   "metadata": {},
   "source": [
    "### Set Methods"
   ]
  },
  {
   "cell_type": "code",
   "execution_count": 248,
   "id": "32017b6a",
   "metadata": {},
   "outputs": [],
   "source": [
    "# Create two sets of integers\n",
    "set_1 = {1, 2, 3, 4, 5}\n",
    "set_2 = {3, 4, 5, 6, 7}"
   ]
  },
  {
   "cell_type": "code",
   "execution_count": 249,
   "id": "38d353ad",
   "metadata": {},
   "outputs": [
    {
     "name": "stdout",
     "output_type": "stream",
     "text": [
      "{1, 2, 3, 4, 5, 6, 7}\n"
     ]
    }
   ],
   "source": [
    "# Use the union() method to create a new set with the elements from both sets\n",
    "set_3 = set1.union(set_2)\n",
    "print(set_3)"
   ]
  },
  {
   "cell_type": "code",
   "execution_count": 250,
   "id": "2362437d",
   "metadata": {},
   "outputs": [
    {
     "name": "stdout",
     "output_type": "stream",
     "text": [
      "{3, 4, 5}\n"
     ]
    }
   ],
   "source": [
    "# Use the intersection() method to create a new set with the elements that are in both sets\n",
    "set_4 = set_1.intersection(set_2)\n",
    "print(set_4) "
   ]
  },
  {
   "cell_type": "code",
   "execution_count": 251,
   "id": "5c671788",
   "metadata": {},
   "outputs": [
    {
     "name": "stdout",
     "output_type": "stream",
     "text": [
      "{1, 2}\n"
     ]
    }
   ],
   "source": [
    "# Use the difference() method to create a new set with the elements that are in set1 but not set2\n",
    "set_5 = set1.difference(set_2)\n",
    "print(set_5)"
   ]
  },
  {
   "cell_type": "code",
   "execution_count": 252,
   "id": "ec895a7b",
   "metadata": {},
   "outputs": [
    {
     "name": "stdout",
     "output_type": "stream",
     "text": [
      "{1, 2, 6, 7}\n"
     ]
    }
   ],
   "source": [
    "# Use the symmetric_difference() method to create a new set with the elements that are in either set1 or set2, but not both\n",
    "set_6 = set_1.symmetric_difference(set_2)\n",
    "print(set_6)"
   ]
  },
  {
   "cell_type": "code",
   "execution_count": 253,
   "id": "7c2ad41f",
   "metadata": {},
   "outputs": [
    {
     "name": "stdout",
     "output_type": "stream",
     "text": [
      "{1, 2, 3, 4, 5, 6}\n"
     ]
    }
   ],
   "source": [
    "# Use the add() method to add an element to the set\n",
    "set_1.add(6)\n",
    "print(set_1)"
   ]
  },
  {
   "cell_type": "code",
   "execution_count": 254,
   "id": "ab420053",
   "metadata": {},
   "outputs": [
    {
     "name": "stdout",
     "output_type": "stream",
     "text": [
      "{1, 2, 3, 4, 5}\n"
     ]
    }
   ],
   "source": [
    "# Use the remove() method to remove an element from the set\n",
    "set_1.remove(6)\n",
    "print(set_1)"
   ]
  },
  {
   "cell_type": "code",
   "execution_count": 255,
   "id": "c2387663",
   "metadata": {},
   "outputs": [
    {
     "name": "stdout",
     "output_type": "stream",
     "text": [
      "1\n",
      "{2, 3, 4, 5}\n"
     ]
    }
   ],
   "source": [
    "# Use the pop() method to remove an element from the set and return it\n",
    "element = set_1.pop()\n",
    "print(element)  # prints 1\n",
    "print(set_1)"
   ]
  },
  {
   "cell_type": "code",
   "execution_count": 256,
   "id": "ce4f595b",
   "metadata": {},
   "outputs": [
    {
     "name": "stdout",
     "output_type": "stream",
     "text": [
      "set()\n"
     ]
    }
   ],
   "source": [
    "# Use the clear() method to remove all elements from the set\n",
    "set_1.clear()\n",
    "print(set_1) "
   ]
  },
  {
   "cell_type": "markdown",
   "id": "16f0151e",
   "metadata": {},
   "source": [
    "These examples demonstrate how you can use set methods to modify and manipulate the elements of a set in Python. You can find a complete list of set methods in the Python documentation."
   ]
  },
  {
   "cell_type": "markdown",
   "id": "4c111f17",
   "metadata": {},
   "source": [
    "## 11. Function\n",
    "1. Creating a function, parameters and return, and **doc** strings\n",
    "2. `*args` & `**kwargs`\n",
    "3. Lambda Function"
   ]
  },
  {
   "cell_type": "markdown",
   "id": "94b29da9",
   "metadata": {},
   "source": [
    "In Python, a function is a block of code that performs a specific task and can be reused multiple times in a program. Functions help you to organize and structure your code, making it easier to read and maintain.\n",
    "\n",
    "### Creating Functions"
   ]
  },
  {
   "cell_type": "code",
   "execution_count": 257,
   "id": "3256ea0e",
   "metadata": {},
   "outputs": [
    {
     "name": "stdout",
     "output_type": "stream",
     "text": [
      "Hello, Alice!\n",
      "Hello, Bob!\n"
     ]
    }
   ],
   "source": [
    "def greet(name):\n",
    "    \"\"\"This function greets the user by name.\"\"\"\n",
    "    print(f'Hello, {name}!')\n",
    "\n",
    "# Call the function with a string argument\n",
    "greet('Alice')\n",
    "greet('Bob')"
   ]
  },
  {
   "cell_type": "markdown",
   "id": "541e9d07",
   "metadata": {},
   "source": [
    "This code defines a function called `greet()` that takes a single argument name and prints a greeting message to the user. The function definition consists of the `def` keyword, the `function name`, and a `pair of parentheses` that may contain `zero or more arguments`. The function body is indented and contains the statements that are executed when the function is called.\n",
    "\n",
    "The `greet()` function can be called with different arguments to greet different users. You can also use default arguments to specify a default value for an argument, and keyword arguments to specify arguments by name.\n",
    "\n",
    "Functions can return a value to the caller using the `return` statement. For example:"
   ]
  },
  {
   "cell_type": "code",
   "execution_count": 258,
   "id": "65ab8335",
   "metadata": {},
   "outputs": [
    {
     "name": "stdout",
     "output_type": "stream",
     "text": [
      "7\n"
     ]
    }
   ],
   "source": [
    "def add(x, y):\n",
    "    \"\"\"This function adds two numbers and returns the result.\"\"\"\n",
    "    result = x + y\n",
    "    return result\n",
    "\n",
    "# Call the function with two arguments and store the result\n",
    "z = add(3, 4)\n",
    "print(z)"
   ]
  },
  {
   "cell_type": "markdown",
   "id": "5e799b10",
   "metadata": {},
   "source": [
    "This code defines a function called add() that takes two arguments x and y and returns the sum of these numbers to the caller. The function is called with two arguments and the result is stored in a variable z, which is then printed to the console.\n",
    "\n",
    "Functions are a useful way to organize and reuse code in Python."
   ]
  },
  {
   "cell_type": "markdown",
   "id": "7ca812ee",
   "metadata": {},
   "source": [
    "### DOC STRINGS\n",
    "**Question**: What is the string just below it's decleration in triple quotes?\n",
    "\n",
    "A docstring (short for documentation string) is a string literal that appears as the first statement in a Python function, method, class, or module. Docstrings are used to document the purpose and behavior of Python code.\n",
    "\n",
    "Docstrings are optional in Python, but they are a good practice to include in your code because they provide documentation for users of your code. Docstrings can be used to explain the purpose, arguments, and return value of a function, and to provide examples of usage. They can also be used to document the attributes and methods of a class, and the variables and functions of a module."
   ]
  },
  {
   "cell_type": "markdown",
   "id": "c5376d4c",
   "metadata": {},
   "source": [
    "### `*Args` and `**Kwargs`"
   ]
  },
  {
   "cell_type": "markdown",
   "id": "c8945514",
   "metadata": {},
   "source": [
    "In Python, the `*args` and `**kwargs` syntax allows you to pass a variable number of arguments to a function.\n",
    "\n",
    "`*args` is used to pass a non-keyworded, variable-length argument list to a function. It is used to pass a list of arguments to a function as a tuple.\n",
    "\n",
    "Here is an example of using `*args` in a function definition:"
   ]
  },
  {
   "cell_type": "code",
   "execution_count": 261,
   "id": "8bd4c5d0",
   "metadata": {},
   "outputs": [
    {
     "name": "stdout",
     "output_type": "stream",
     "text": [
      "1\n",
      "2\n",
      "3\n",
      "4\n",
      "5\n"
     ]
    }
   ],
   "source": [
    "def foo(*args):\n",
    "    \"\"\"This function prints the arguments passed to it.\"\"\"\n",
    "    for arg in args:\n",
    "        print(arg)\n",
    "\n",
    "# Call the function with multiple arguments\n",
    "foo(1, 2, 3, 4, 5)"
   ]
  },
  {
   "cell_type": "markdown",
   "id": "111149b4",
   "metadata": {},
   "source": [
    "In this example, the `foo()` function takes a variable number of arguments and prints them to the console. The `*args` syntax in the function definition indicates that the function can take any number of arguments, which are then passed to the function as a tuple.\n",
    "\n",
    "`**kwargs` is used to pass a keyworded, variable-length argument list to a function. It is used to pass a dictionary of arguments to a function.\n",
    "\n",
    "Here is an example of using `**kwargs` in a function definition:"
   ]
  },
  {
   "cell_type": "code",
   "execution_count": 262,
   "id": "7e64763d",
   "metadata": {},
   "outputs": [
    {
     "name": "stdout",
     "output_type": "stream",
     "text": [
      "x: 1\n",
      "y: 2\n",
      "z: 3\n"
     ]
    }
   ],
   "source": [
    "def func(**kwargs):\n",
    "    \"\"\"This function prints the keyword arguments passed to it.\"\"\"\n",
    "    for key, value in kwargs.items():\n",
    "        print(f'{key}: {value}')\n",
    "\n",
    "# Call the function with multiple keyword arguments\n",
    "func(x = 1, y = 2, z = 3)"
   ]
  },
  {
   "cell_type": "markdown",
   "id": "5ae8b952",
   "metadata": {},
   "source": [
    "In this example, the `foo()` function takes a variable number of keyword arguments and prints them to the console. The `**kwargs` syntax in the function definition indicates that the function can take any number of keyword arguments, which are then passed to the function as a dictionary.\n",
    "\n",
    "You can use the `*args` and `**kwargs` syntax together in the same function definition, like this:"
   ]
  },
  {
   "cell_type": "code",
   "execution_count": 263,
   "id": "009eb50f",
   "metadata": {},
   "outputs": [
    {
     "name": "stdout",
     "output_type": "stream",
     "text": [
      "x: 1\n",
      "2\n",
      "3\n",
      "4\n",
      "5\n",
      "y: 6\n",
      "z: 7\n"
     ]
    }
   ],
   "source": [
    "def func(x, *args, **kwargs):\n",
    "    \"\"\"This function prints the arguments and keyword arguments passed to it.\"\"\"\n",
    "    print(f'x: {x}')\n",
    "    for arg in args:\n",
    "        print(arg)\n",
    "    for key, value in kwargs.items():\n",
    "        print(f'{key}: {value}')\n",
    "\n",
    "# Call the function with multiple arguments and keyword arguments\n",
    "func(1, 2, 3, 4, 5, y = 6, z = 7)"
   ]
  },
  {
   "cell_type": "markdown",
   "id": "a10a144d",
   "metadata": {},
   "source": [
    "In this example, the `foo()` function takes a required argument `x`, followed by a variable number of non-keyworded arguments and a variable number of keyword arguments. You can use the `*args` and `**kwargs` syntax to define flexible and reusable functions that can accept a variable number of arguments and keyword arguments in Python."
   ]
  },
  {
   "cell_type": "markdown",
   "id": "e7944690",
   "metadata": {},
   "source": [
    "### Lambda Functions\n",
    "In Python, a lambda function is a small anonymous function that is defined without a name using the `lambda` keyword. Lambda functions are used to perform simple operations, and they are often used as anonymous functions (functions without a name) or as arguments to higher-order functions (functions that accept other functions as arguments).\n",
    "\n",
    "Lambda functions are often used in combination with higher-order functions such as `map()`, `filter()`, and `reduce()`, which operate on sequences of data. \n",
    "\n",
    "Here is an example of using a lambda function with the `map()` function:\n"
   ]
  },
  {
   "cell_type": "code",
   "execution_count": 266,
   "id": "48eaf583",
   "metadata": {},
   "outputs": [
    {
     "name": "stdout",
     "output_type": "stream",
     "text": [
      "[1, 4, 9, 16, 25]\n"
     ]
    }
   ],
   "source": [
    "# Define a lambda function that takes a number and returns its square\n",
    "# Define a lambda function that takes a number and returns its square\n",
    "square = lambda x: x**2\n",
    "\n",
    "# Create a list of numbers\n",
    "numbers = [1, 2, 3, 4, 5]\n",
    "\n",
    "# Use the map() function to apply the lambda function to each element of the list\n",
    "squares = map(square, numbers)\n",
    "print(list(squares))"
   ]
  },
  {
   "cell_type": "markdown",
   "id": "9d85ae7a",
   "metadata": {},
   "source": [
    "In this example, the `square()` function is defined as a lambda function that takes a single argument `x` and returns its square. The `map(`) function applies the lambda function to each element of the numbers list and returns a new iterable object with the squared values. The `list()` function is used to create a list from the iterable object.\n",
    "\n",
    "Lambda functions are useful when you need to define a simple function for a short period of time and do not want to define a full function using the `def` keyword. They can also be used to avoid defining and naming unnecessary functions, and to improve the readability and clarity of your code."
   ]
  },
  {
   "cell_type": "markdown",
   "id": "b8fd8cec",
   "metadata": {},
   "source": [
    "## 12. Comprehensions\n",
    "1. List Comprehensions\n",
    "2. Dictionary Comprehensions"
   ]
  },
  {
   "cell_type": "markdown",
   "id": "b974b097",
   "metadata": {},
   "source": [
    "### List Comprehension\n",
    "List comprehensions are a concise way to create lists in Python. They are a convenient and efficient way to transform one list into another, or to create a new list based on a condition or a transformation.\n",
    "\n",
    "Here are some examples of list comprehensions in Python:"
   ]
  },
  {
   "cell_type": "code",
   "execution_count": 267,
   "id": "c974458d",
   "metadata": {},
   "outputs": [
    {
     "name": "stdout",
     "output_type": "stream",
     "text": [
      "[1, 4, 9, 16, 25, 36, 49, 64, 81, 100]\n"
     ]
    }
   ],
   "source": [
    "# Create a new list with the squares of the numbers from 1 to 10\n",
    "squares = [x**2 for x in range(1, 11)]\n",
    "print(squares)"
   ]
  },
  {
   "cell_type": "code",
   "execution_count": 268,
   "id": "b8ece67b",
   "metadata": {},
   "outputs": [
    {
     "name": "stdout",
     "output_type": "stream",
     "text": [
      "[2, 4, 6, 8, 10]\n"
     ]
    }
   ],
   "source": [
    "# Create a new list with the even numbers from 1 to 10\n",
    "evens = [x for x in range(1, 11) if x % 2 == 0]\n",
    "print(evens)"
   ]
  },
  {
   "cell_type": "code",
   "execution_count": 269,
   "id": "40993df8",
   "metadata": {},
   "outputs": [
    {
     "name": "stdout",
     "output_type": "stream",
     "text": [
      "['Alice', 'Bob', 'Charlie']\n"
     ]
    }
   ],
   "source": [
    "# Create a new list with the first names of a list of persons\n",
    "persons = [('Alice', 'Smith'), ('Bob', 'Jones'), ('Charlie', 'Brown')]\n",
    "first_names = [name[0] for name in persons]\n",
    "print(first_names) "
   ]
  },
  {
   "cell_type": "markdown",
   "id": "b5a7057e",
   "metadata": {},
   "source": [
    "### Dictionary Comprehensions\n",
    "Dictionary comprehensions are a concise way to create dictionaries in Python. They are similar to list comprehensions, but they create dictionaries instead of lists, and they use curly braces `{}` instead of square brackets `[]`.\n",
    "\n",
    "Here are some examples of dictionary comprehensions in Python:"
   ]
  },
  {
   "cell_type": "code",
   "execution_count": 272,
   "id": "38f0840f",
   "metadata": {},
   "outputs": [
    {
     "name": "stdout",
     "output_type": "stream",
     "text": [
      "{1: 1, 2: 8, 3: 27, 4: 64, 5: 125, 6: 216, 7: 343, 8: 512, 9: 729, 10: 1000}\n"
     ]
    }
   ],
   "source": [
    "# Create a new dictionary with the squares of the numbers from 1 to 10 as keys and their square roots as values\n",
    "squares = {x: x**3 for x in range(1, 11)}\n",
    "print(squares)"
   ]
  },
  {
   "cell_type": "code",
   "execution_count": 276,
   "id": "36d3f87f",
   "metadata": {},
   "outputs": [
    {
     "name": "stdout",
     "output_type": "stream",
     "text": [
      "{'a': 97, 'b': 98, 'c': 99, 'd': 100, 'e': 101, 'f': 102, 'g': 103, 'h': 104, 'i': 105, 'j': 106, 'k': 107, 'l': 108, 'm': 109, 'n': 110, 'o': 111, 'p': 112, 'q': 113, 'r': 114, 's': 115, 't': 116, 'u': 117, 'v': 118, 'w': 119, 'x': 120, 'y': 121, 'z': 122}\n"
     ]
    }
   ],
   "source": [
    "# Create a new dictionary with the lowercase letters of the English alphabet as keys and their ASCII codes as values\n",
    "letters = {chr(x): x for x in range(ord('a'), ord('z')+1)}\n",
    "print(letters)"
   ]
  },
  {
   "cell_type": "code",
   "execution_count": 277,
   "id": "e67f8ab9",
   "metadata": {},
   "outputs": [
    {
     "name": "stdout",
     "output_type": "stream",
     "text": [
      "{'Smith': 'Alice', 'Jones': 'Bob', 'Brown': 'Charlie'}\n"
     ]
    }
   ],
   "source": [
    "# Create a new dictionary with the last names of a list of persons as keys and their first names as values\n",
    "persons = [('Alice', 'Smith'), ('Bob', 'Jones'), ('Charlie', 'Brown')]\n",
    "names = {name[1]: name[0] for name in persons}\n",
    "print(names)  # prints"
   ]
  }
 ],
 "metadata": {
  "kernelspec": {
   "display_name": "Python 3 (ipykernel)",
   "language": "python",
   "name": "python3"
  },
  "language_info": {
   "codemirror_mode": {
    "name": "ipython",
    "version": 3
   },
   "file_extension": ".py",
   "mimetype": "text/x-python",
   "name": "python",
   "nbconvert_exporter": "python",
   "pygments_lexer": "ipython3",
   "version": "3.10.6"
  }
 },
 "nbformat": 4,
 "nbformat_minor": 5
}
